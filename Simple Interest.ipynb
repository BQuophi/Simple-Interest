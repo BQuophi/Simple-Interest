{
 "cells": [
  {
   "cell_type": "code",
   "execution_count": null,
   "id": "c752ea11",
   "metadata": {},
   "outputs": [],
   "source": [
    "# Python program that calculates simple interest \n",
    "\n",
    "principal = float(input('Enter the Principal Amount: '))\n",
    "rate = float(input('Enter the Interest Rate: '))\n",
    "time = float(input('Enter the time period in years: '))\n",
    "\n",
    "Simple_interest = (principal * rate * time) / 100\n",
    "\n",
    "print('The simple interest is',Simple_interest)"
   ]
  }
 ],
 "metadata": {
  "kernelspec": {
   "display_name": "Python 3 (ipykernel)",
   "language": "python",
   "name": "python3"
  },
  "language_info": {
   "codemirror_mode": {
    "name": "ipython",
    "version": 3
   },
   "file_extension": ".py",
   "mimetype": "text/x-python",
   "name": "python",
   "nbconvert_exporter": "python",
   "pygments_lexer": "ipython3",
   "version": "3.9.7"
  }
 },
 "nbformat": 4,
 "nbformat_minor": 5
}
